{
 "cells": [
  {
   "cell_type": "markdown",
   "metadata": {},
   "source": [
    "# 🧌🗡️ OSRS GOBLIN BOT"
   ]
  },
  {
   "cell_type": "markdown",
   "metadata": {},
   "source": [
    "## 1. ANNOTATED IMAGES \n",
    "\n",
    "The images where anotated on the Roboflow app, making use of their AI helper to aid in the annotations, \n",
    "after around 17 manual annotations it was able to annotate the rest of the dataset automatically.\n",
    "\n",
    "## 2. YOLO TRAINING ON THE ANNOTATED IMAGES\n",
    "\n",
    "We utilize yolov11n to create the best model which we will then utilize in the streaming part of the project."
   ]
  },
  {
   "cell_type": "code",
   "execution_count": null,
   "metadata": {},
   "outputs": [
    {
     "name": "stdout",
     "output_type": "stream",
     "text": [
      "loading Roboflow workspace...\n",
      "loading Roboflow project...\n",
      "Project 'osrs-goblins-sewlx' loaded successfully!\n"
     ]
    }
   ],
   "source": [
    "# images uploaded and annotated on the very nice interface that roboflow has, now we import it and download annotations and images on yolov8 format\n",
    "\n",
    "from roboflow import Roboflow\n",
    "\n",
    "rf = Roboflow(api_key=\"\")\n",
    "\n",
    "# Connect to the correct workspace\n",
    "workspace = rf.workspace(\"nicolasbojos\")\n",
    "\n",
    "# anually assign the correct project name\n",
    "project_name = \"osrs-goblins-sewlx\"\n",
    "\n",
    "# Load the project correctly\n",
    "new_project = workspace.project(project_name)\n",
    "\n",
    "print(f\"Project '{project_name}' loaded successfully!\")\n"
   ]
  },
  {
   "cell_type": "markdown",
   "metadata": {},
   "source": [
    "### Checking the versions available on the workspace in order to pick the best one."
   ]
  },
  {
   "cell_type": "code",
   "execution_count": 38,
   "metadata": {},
   "outputs": [
    {
     "name": "stdout",
     "output_type": "stream",
     "text": [
      "Available version ID: nicolasbojos/osrs-goblins-sewlx/4\n",
      "Available version ID: nicolasbojos/osrs-goblins-sewlx/3\n",
      "Available version ID: nicolasbojos/osrs-goblins-sewlx/2\n",
      "Available version ID: nicolasbojos/osrs-goblins-sewlx/1\n"
     ]
    }
   ],
   "source": [
    "versions = new_project.versions()\n",
    "if not versions:\n",
    "    print(\"No dataset versions found. You need to generate one in Roboflow.\")\n",
    "else:\n",
    "    for version in versions:\n",
    "        print(f\"Available version ID: {version.id}\")\n"
   ]
  },
  {
   "cell_type": "markdown",
   "metadata": {},
   "source": [
    "### Downloading the dataset"
   ]
  },
  {
   "cell_type": "code",
   "execution_count": null,
   "metadata": {},
   "outputs": [
    {
     "name": "stdout",
     "output_type": "stream",
     "text": [
      "Exporting format yolov11 in progress : 85.0%\n",
      "Version export complete for yolov11 format\n"
     ]
    },
    {
     "name": "stderr",
     "output_type": "stream",
     "text": [
      "Downloading Dataset Version Zip in osrs-goblins-3 to yolov11:: 100%|██████████| 28118/28118 [00:02<00:00, 11462.83it/s]"
     ]
    },
    {
     "name": "stdout",
     "output_type": "stream",
     "text": [
      "\n"
     ]
    },
    {
     "name": "stderr",
     "output_type": "stream",
     "text": [
      "\n",
      "Extracting Dataset Version Zip to osrs-goblins-3 in yolov11:: 100%|██████████| 326/326 [00:00<00:00, 2053.57it/s]"
     ]
    },
    {
     "name": "stdout",
     "output_type": "stream",
     "text": [
      "Dataset downloaded to: <roboflow.core.dataset.Dataset object at 0x7fe13413d840>\n"
     ]
    },
    {
     "name": "stderr",
     "output_type": "stream",
     "text": [
      "\n"
     ]
    }
   ],
   "source": [
    "dataset_path = new_project.version(3).download(\"yolov11\")\n",
    "print(f\"Dataset downloaded to: {dataset_path}\")"
   ]
  },
  {
   "cell_type": "markdown",
   "metadata": {},
   "source": [
    "### Splitting the dataset"
   ]
  },
  {
   "cell_type": "code",
   "execution_count": null,
   "metadata": {},
   "outputs": [
    {
     "name": "stdout",
     "output_type": "stream",
     "text": [
      " Moved 38 images to validation set.\n"
     ]
    }
   ],
   "source": [
    "import os\n",
    "import shutil\n",
    "import random\n",
    "\n",
    "# Define paths\n",
    "train_images_path = \"osrs_goblins_3/train/images\"\n",
    "train_labels_path = \"osrs_goblins_3/train/labels\"\n",
    "\n",
    "valid_images_path = \"osrs_goblins_3/valid/images\"\n",
    "valid_labels_path = \"osrs_goblins_3/valid/labels\"\n",
    "\n",
    "# Ensure valid/ directories exist\n",
    "os.makedirs(valid_images_path, exist_ok=True)\n",
    "os.makedirs(valid_labels_path, exist_ok=True)\n",
    "\n",
    "# Get all images\n",
    "image_files = [f for f in os.listdir(train_images_path) if f.endswith((\".jpg\", \".png\"))]\n",
    "num_valid = int(len(image_files) * 0.3)  # Move 30% for validation\n",
    "\n",
    "print(f\" Moved {num_valid} images to validation set.\")\n"
   ]
  },
  {
   "cell_type": "code",
   "execution_count": 41,
   "metadata": {},
   "outputs": [
    {
     "name": "stdout",
     "output_type": "stream",
     "text": [
      "✅ Updated `data.yaml` with correct paths.\n"
     ]
    }
   ],
   "source": [
    "yaml_content = \"\"\"train: ./osrs_goblins_3/train/images\n",
    "val: ./osrs_goblins_3/valid/images\n",
    "\n",
    "nc: 3\n",
    "names: ['Goblin', 'Player', 'goblin']\n",
    "\"\"\"\n",
    "\n",
    "# Save the updated data.yaml\n",
    "with open(\"osrs_goblins_3/data.yaml\", \"w\") as f:\n",
    "    f.write(yaml_content)\n",
    "\n",
    "print(\"✅ Updated `data.yaml` with correct paths.\")"
   ]
  },
  {
   "cell_type": "code",
   "execution_count": null,
   "metadata": {},
   "outputs": [
    {
     "name": "stdout",
     "output_type": "stream",
     "text": [
      "train: ./osrs_goblins_3/train/images\n",
      "val: ./osrs_goblins_3/valid/images\n",
      "\n",
      "nc: 3\n",
      "names: ['Goblin', 'Player', 'goblin']\n",
      "\n"
     ]
    }
   ],
   "source": [
    "# check for the classes\n",
    "\n",
    "with open(\"osrs_goblins_3/data.yaml\", \"r\") as f:\n",
    "    print(f.read())"
   ]
  },
  {
   "cell_type": "markdown",
   "metadata": {},
   "source": [
    "### Training the model"
   ]
  },
  {
   "cell_type": "code",
   "execution_count": null,
   "metadata": {},
   "outputs": [
    {
     "name": "stdout",
     "output_type": "stream",
     "text": [
      "Ultralytics 8.3.89 🚀 Python-3.10.12 torch-2.5.1+cu121 CUDA:0 (NVIDIA GeForce RTX 3070 Ti Laptop GPU, 8192MiB)\n",
      "\u001b[34m\u001b[1mengine/trainer: \u001b[0mtask=detect, mode=train, model=yolo11n.pt, data=osrs_goblins_3/data.yaml, epochs=50, time=None, patience=100, batch=16, imgsz=640, save=True, save_period=-1, cache=False, device=None, workers=8, project=None, name=train5, exist_ok=False, pretrained=True, optimizer=auto, verbose=True, seed=0, deterministic=True, single_cls=False, rect=False, cos_lr=False, close_mosaic=10, resume=False, amp=True, fraction=1.0, profile=False, freeze=None, multi_scale=False, overlap_mask=True, mask_ratio=4, dropout=0.0, val=True, split=val, save_json=False, save_hybrid=False, conf=None, iou=0.7, max_det=300, half=False, dnn=False, plots=True, source=None, vid_stride=1, stream_buffer=False, visualize=False, augment=False, agnostic_nms=False, classes=None, retina_masks=False, embed=None, show=False, save_frames=False, save_txt=False, save_conf=False, save_crop=False, show_labels=True, show_conf=True, show_boxes=True, line_width=None, format=torchscript, keras=False, optimize=False, int8=False, dynamic=False, simplify=True, opset=None, workspace=None, nms=False, lr0=0.01, lrf=0.01, momentum=0.937, weight_decay=0.0005, warmup_epochs=3.0, warmup_momentum=0.8, warmup_bias_lr=0.1, box=7.5, cls=0.5, dfl=1.5, pose=12.0, kobj=1.0, nbs=64, hsv_h=0.015, hsv_s=0.7, hsv_v=0.4, degrees=0.0, translate=0.1, scale=0.5, shear=0.0, perspective=0.0, flipud=0.0, fliplr=0.5, bgr=0.0, mosaic=1.0, mixup=0.0, copy_paste=0.0, copy_paste_mode=flip, auto_augment=randaugment, erasing=0.4, crop_fraction=1.0, cfg=None, tracker=botsort.yaml, save_dir=/root/runs/detect/train5\n",
      "WARNING: All log messages before absl::InitializeLog() is called are written to STDERR\n",
      "E0000 00:00:1741942946.362386   66414 cuda_dnn.cc:8310] Unable to register cuDNN factory: Attempting to register factory for plugin cuDNN when one has already been registered\n",
      "E0000 00:00:1741942946.396734   66414 cuda_blas.cc:1418] Unable to register cuBLAS factory: Attempting to register factory for plugin cuBLAS when one has already been registered\n",
      "Overriding model.yaml nc=80 with nc=3\n",
      "\n",
      "                   from  n    params  module                                       arguments                     \n",
      "  0                  -1  1       464  ultralytics.nn.modules.conv.Conv             [3, 16, 3, 2]                 \n",
      "  1                  -1  1      4672  ultralytics.nn.modules.conv.Conv             [16, 32, 3, 2]                \n",
      "  2                  -1  1      6640  ultralytics.nn.modules.block.C3k2            [32, 64, 1, False, 0.25]      \n",
      "  3                  -1  1     36992  ultralytics.nn.modules.conv.Conv             [64, 64, 3, 2]                \n",
      "  4                  -1  1     26080  ultralytics.nn.modules.block.C3k2            [64, 128, 1, False, 0.25]     \n",
      "  5                  -1  1    147712  ultralytics.nn.modules.conv.Conv             [128, 128, 3, 2]              \n",
      "  6                  -1  1     87040  ultralytics.nn.modules.block.C3k2            [128, 128, 1, True]           \n",
      "  7                  -1  1    295424  ultralytics.nn.modules.conv.Conv             [128, 256, 3, 2]              \n",
      "  8                  -1  1    346112  ultralytics.nn.modules.block.C3k2            [256, 256, 1, True]           \n",
      "  9                  -1  1    164608  ultralytics.nn.modules.block.SPPF            [256, 256, 5]                 \n",
      " 10                  -1  1    249728  ultralytics.nn.modules.block.C2PSA           [256, 256, 1]                 \n",
      " 11                  -1  1         0  torch.nn.modules.upsampling.Upsample         [None, 2, 'nearest']          \n",
      " 12             [-1, 6]  1         0  ultralytics.nn.modules.conv.Concat           [1]                           \n",
      " 13                  -1  1    111296  ultralytics.nn.modules.block.C3k2            [384, 128, 1, False]          \n",
      " 14                  -1  1         0  torch.nn.modules.upsampling.Upsample         [None, 2, 'nearest']          \n",
      " 15             [-1, 4]  1         0  ultralytics.nn.modules.conv.Concat           [1]                           \n",
      " 16                  -1  1     32096  ultralytics.nn.modules.block.C3k2            [256, 64, 1, False]           \n",
      " 17                  -1  1     36992  ultralytics.nn.modules.conv.Conv             [64, 64, 3, 2]                \n",
      " 18            [-1, 13]  1         0  ultralytics.nn.modules.conv.Concat           [1]                           \n",
      " 19                  -1  1     86720  ultralytics.nn.modules.block.C3k2            [192, 128, 1, False]          \n",
      " 20                  -1  1    147712  ultralytics.nn.modules.conv.Conv             [128, 128, 3, 2]              \n",
      " 21            [-1, 10]  1         0  ultralytics.nn.modules.conv.Concat           [1]                           \n",
      " 22                  -1  1    378880  ultralytics.nn.modules.block.C3k2            [384, 256, 1, True]           \n",
      " 23        [16, 19, 22]  1    431257  ultralytics.nn.modules.head.Detect           [3, [64, 128, 256]]           \n",
      "YOLO11n summary: 181 layers, 2,590,425 parameters, 2,590,409 gradients, 6.4 GFLOPs\n",
      "\n",
      "Transferred 448/499 items from pretrained weights\n",
      "\u001b[34m\u001b[1mTensorBoard: \u001b[0mStart with 'tensorboard --logdir /root/runs/detect/train5', view at http://localhost:6006/\n",
      "Freezing layer 'model.23.dfl.conv.weight'\n",
      "\u001b[34m\u001b[1mAMP: \u001b[0mrunning Automatic Mixed Precision (AMP) checks...\n",
      "\u001b[34m\u001b[1mAMP: \u001b[0mchecks passed ✅\n",
      "\u001b[34m\u001b[1mtrain: \u001b[0mScanning /root/Notebooks/computer_viz/MYBOT/osrs_goblins_3/train/labels..\u001b[0m\n",
      "\u001b[34m\u001b[1mtrain: \u001b[0mNew cache created: /root/Notebooks/computer_viz/MYBOT/osrs_goblins_3/train/labels.cache\n",
      "\u001b[34m\u001b[1mval: \u001b[0mScanning /root/Notebooks/computer_viz/MYBOT/osrs_goblins_3/valid/labels... \u001b[0m\n",
      "\u001b[34m\u001b[1mval: \u001b[0mNew cache created: /root/Notebooks/computer_viz/MYBOT/osrs_goblins_3/valid/labels.cache\n",
      "Plotting labels to /root/runs/detect/train5/labels.jpg... \n",
      "\u001b[34m\u001b[1moptimizer:\u001b[0m 'optimizer=auto' found, ignoring 'lr0=0.01' and 'momentum=0.937' and determining best 'optimizer', 'lr0' and 'momentum' automatically... \n",
      "\u001b[34m\u001b[1moptimizer:\u001b[0m AdamW(lr=0.001429, momentum=0.9) with parameter groups 81 weight(decay=0.0), 88 weight(decay=0.0005), 87 bias(decay=0.0)\n",
      "\u001b[34m\u001b[1mTensorBoard: \u001b[0mmodel graph visualization added ✅\n",
      "Image sizes 640 train, 640 val\n",
      "Using 8 dataloader workers\n",
      "Logging results to \u001b[1m/root/runs/detect/train5\u001b[0m\n",
      "Starting training for 50 epochs...\n",
      "\n",
      "      Epoch    GPU_mem   box_loss   cls_loss   dfl_loss  Instances       Size\n",
      "       1/50      2.57G       1.94      3.962      1.239        414        640: 1\n",
      "                 Class     Images  Instances      Box(P          R      mAP50  m\n",
      "                   all         20        187    0.00724     0.0793    0.00572    0.00344\n",
      "\n",
      "      Epoch    GPU_mem   box_loss   cls_loss   dfl_loss  Instances       Size\n",
      "       2/50      2.57G      1.681      3.451      1.069        382        640: 1\n",
      "                 Class     Images  Instances      Box(P          R      mAP50  m\n",
      "                   all         20        187     0.0354      0.264     0.0457     0.0111\n",
      "\n",
      "      Epoch    GPU_mem   box_loss   cls_loss   dfl_loss  Instances       Size\n",
      "       3/50      2.71G      1.683      2.892      1.024        378        640: 1\n",
      "                 Class     Images  Instances      Box(P          R      mAP50  m\n",
      "                   all         20        187     0.0538      0.572      0.188     0.0693\n",
      "\n",
      "      Epoch    GPU_mem   box_loss   cls_loss   dfl_loss  Instances       Size\n",
      "       4/50      2.72G      1.668      2.394      1.027        378        640: 1\n",
      "                 Class     Images  Instances      Box(P          R      mAP50  m\n",
      "                   all         20        187     0.0406      0.505      0.234     0.0873\n",
      "\n",
      "      Epoch    GPU_mem   box_loss   cls_loss   dfl_loss  Instances       Size\n",
      "       5/50      2.72G      1.632      2.086      1.016        357        640: 1\n",
      "                 Class     Images  Instances      Box(P          R      mAP50  m\n",
      "                   all         20        187     0.0358      0.548      0.268      0.114\n",
      "\n",
      "      Epoch    GPU_mem   box_loss   cls_loss   dfl_loss  Instances       Size\n",
      "       6/50      2.86G      1.642      1.914       1.03        299        640: 1\n",
      "                 Class     Images  Instances      Box(P          R      mAP50  m\n",
      "                   all         20        187     0.0351       0.59      0.225     0.0823\n",
      "\n",
      "      Epoch    GPU_mem   box_loss   cls_loss   dfl_loss  Instances       Size\n",
      "       7/50      2.86G      1.637      1.777      1.042        340        640: 1\n",
      "                 Class     Images  Instances      Box(P          R      mAP50  m\n",
      "                   all         20        187     0.0408      0.732      0.281        0.1\n",
      "\n",
      "      Epoch    GPU_mem   box_loss   cls_loss   dfl_loss  Instances       Size\n",
      "       8/50      3.02G      1.572      1.705      1.008        449        640: 1\n",
      "                 Class     Images  Instances      Box(P          R      mAP50  m\n",
      "                   all         20        187     0.0426      0.814      0.359      0.159\n",
      "\n",
      "      Epoch    GPU_mem   box_loss   cls_loss   dfl_loss  Instances       Size\n",
      "       9/50      3.17G      1.545      1.638      1.006        317        640: 1\n",
      "                 Class     Images  Instances      Box(P          R      mAP50  m\n",
      "                   all         20        187     0.0446       0.87       0.41      0.181\n",
      "\n",
      "      Epoch    GPU_mem   box_loss   cls_loss   dfl_loss  Instances       Size\n",
      "      10/50      3.35G      1.492      1.517      1.017        323        640: 1\n",
      "                 Class     Images  Instances      Box(P          R      mAP50  m\n",
      "                   all         20        187      0.397      0.636      0.434      0.216\n",
      "\n",
      "      Epoch    GPU_mem   box_loss   cls_loss   dfl_loss  Instances       Size\n",
      "      11/50      3.35G      1.557      1.518      1.009        260        640: 1\n",
      "                 Class     Images  Instances      Box(P          R      mAP50  m\n",
      "                   all         20        187      0.577      0.154      0.475      0.208\n",
      "\n",
      "      Epoch    GPU_mem   box_loss   cls_loss   dfl_loss  Instances       Size\n",
      "      12/50      3.35G      1.527      1.415     0.9998        415        640: 1\n",
      "                 Class     Images  Instances      Box(P          R      mAP50  m\n",
      "                   all         20        187      0.626      0.503       0.56       0.29\n",
      "\n",
      "      Epoch    GPU_mem   box_loss   cls_loss   dfl_loss  Instances       Size\n",
      "      13/50      3.35G      1.468      1.337     0.9895        347        640: 1\n",
      "                 Class     Images  Instances      Box(P          R      mAP50  m\n",
      "                   all         20        187      0.561      0.615      0.578      0.306\n",
      "\n",
      "      Epoch    GPU_mem   box_loss   cls_loss   dfl_loss  Instances       Size\n",
      "      14/50      3.35G      1.434       1.28     0.9882        375        640: 1\n",
      "                 Class     Images  Instances      Box(P          R      mAP50  m\n",
      "                   all         20        187      0.781      0.706      0.742      0.423\n",
      "\n",
      "      Epoch    GPU_mem   box_loss   cls_loss   dfl_loss  Instances       Size\n",
      "      15/50      3.35G      1.429      1.252     0.9941        199        640: 1\n",
      "                 Class     Images  Instances      Box(P          R      mAP50  m\n",
      "                   all         20        187      0.765       0.72      0.765      0.432\n",
      "\n",
      "      Epoch    GPU_mem   box_loss   cls_loss   dfl_loss  Instances       Size\n",
      "      16/50      3.35G      1.405      1.175      0.992        331        640: 1\n",
      "                 Class     Images  Instances      Box(P          R      mAP50  m\n",
      "                   all         20        187      0.761      0.711       0.76      0.451\n",
      "\n",
      "      Epoch    GPU_mem   box_loss   cls_loss   dfl_loss  Instances       Size\n",
      "      17/50      3.35G      1.413      1.147     0.9799        364        640: 1\n",
      "                 Class     Images  Instances      Box(P          R      mAP50  m\n",
      "                   all         20        187        0.7      0.678      0.731       0.42\n",
      "\n",
      "      Epoch    GPU_mem   box_loss   cls_loss   dfl_loss  Instances       Size\n",
      "      18/50      3.35G      1.338      1.082     0.9773        332        640: 1\n",
      "                 Class     Images  Instances      Box(P          R      mAP50  m\n",
      "                   all         20        187      0.513      0.554      0.457      0.242\n",
      "\n",
      "      Epoch    GPU_mem   box_loss   cls_loss   dfl_loss  Instances       Size\n",
      "      19/50      3.35G      1.355      1.069     0.9869        207        640: 1\n",
      "                 Class     Images  Instances      Box(P          R      mAP50  m\n",
      "                   all         20        187      0.425      0.566      0.532      0.294\n",
      "\n",
      "      Epoch    GPU_mem   box_loss   cls_loss   dfl_loss  Instances       Size\n",
      "      20/50      3.35G      1.372      1.099     0.9794        277        640: 1\n",
      "                 Class     Images  Instances      Box(P          R      mAP50  m\n",
      "                   all         20        187      0.771      0.778      0.807      0.476\n",
      "\n",
      "      Epoch    GPU_mem   box_loss   cls_loss   dfl_loss  Instances       Size\n",
      "      21/50      3.35G      1.334      1.054     0.9885        273        640: 1\n",
      "                 Class     Images  Instances      Box(P          R      mAP50  m\n",
      "                   all         20        187      0.759      0.756      0.803        0.5\n",
      "\n",
      "      Epoch    GPU_mem   box_loss   cls_loss   dfl_loss  Instances       Size\n",
      "      22/50      3.35G      1.351      1.031     0.9751        362        640: 1\n",
      "                 Class     Images  Instances      Box(P          R      mAP50  m\n",
      "                   all         20        187      0.807      0.756      0.831      0.501\n",
      "\n",
      "      Epoch    GPU_mem   box_loss   cls_loss   dfl_loss  Instances       Size\n",
      "      23/50      3.35G      1.309      1.002     0.9835        337        640: 1\n",
      "                 Class     Images  Instances      Box(P          R      mAP50  m\n",
      "                   all         20        187      0.653      0.774      0.755      0.464\n",
      "\n",
      "      Epoch    GPU_mem   box_loss   cls_loss   dfl_loss  Instances       Size\n",
      "      24/50      3.35G       1.32     0.9766     0.9764        336        640: 1\n",
      "                 Class     Images  Instances      Box(P          R      mAP50  m\n",
      "                   all         20        187       0.52      0.711      0.645      0.393\n",
      "\n",
      "      Epoch    GPU_mem   box_loss   cls_loss   dfl_loss  Instances       Size\n",
      "      25/50      3.35G      1.294     0.9985     0.9614        240        640: 1\n",
      "                 Class     Images  Instances      Box(P          R      mAP50  m\n",
      "                   all         20        187      0.471      0.732      0.602      0.355\n",
      "\n",
      "      Epoch    GPU_mem   box_loss   cls_loss   dfl_loss  Instances       Size\n",
      "      26/50      3.35G      1.316     0.9631     0.9597        387        640: 1\n",
      "                 Class     Images  Instances      Box(P          R      mAP50  m\n",
      "                   all         20        187      0.566      0.761      0.694      0.431\n",
      "\n",
      "      Epoch    GPU_mem   box_loss   cls_loss   dfl_loss  Instances       Size\n",
      "      27/50      3.35G      1.317     0.9818     0.9696        314        640: 1\n",
      "                 Class     Images  Instances      Box(P          R      mAP50  m\n",
      "                   all         20        187      0.805       0.77      0.824      0.533\n",
      "\n",
      "      Epoch    GPU_mem   box_loss   cls_loss   dfl_loss  Instances       Size\n",
      "      28/50      3.35G      1.282     0.9639     0.9628        317        640: 1\n",
      "                 Class     Images  Instances      Box(P          R      mAP50  m\n",
      "                   all         20        187      0.805      0.811      0.834      0.513\n",
      "\n",
      "      Epoch    GPU_mem   box_loss   cls_loss   dfl_loss  Instances       Size\n",
      "      29/50      3.35G      1.286     0.9253      0.972        332        640: 1\n",
      "                 Class     Images  Instances      Box(P          R      mAP50  m\n",
      "                   all         20        187      0.852      0.852       0.87      0.543\n",
      "\n",
      "      Epoch    GPU_mem   box_loss   cls_loss   dfl_loss  Instances       Size\n",
      "      30/50      3.35G      1.288     0.9039      0.965        342        640: 1\n",
      "                 Class     Images  Instances      Box(P          R      mAP50  m\n",
      "                   all         20        187      0.821      0.841      0.863      0.524\n",
      "\n",
      "      Epoch    GPU_mem   box_loss   cls_loss   dfl_loss  Instances       Size\n",
      "      31/50      3.35G      1.313     0.9374     0.9685        386        640: 1\n",
      "                 Class     Images  Instances      Box(P          R      mAP50  m\n",
      "                   all         20        187      0.823      0.835      0.848       0.53\n",
      "\n",
      "      Epoch    GPU_mem   box_loss   cls_loss   dfl_loss  Instances       Size\n",
      "      32/50      3.35G      1.278     0.8843     0.9474        395        640: 1\n",
      "                 Class     Images  Instances      Box(P          R      mAP50  m\n",
      "                   all         20        187      0.752      0.814       0.83      0.514\n",
      "\n",
      "      Epoch    GPU_mem   box_loss   cls_loss   dfl_loss  Instances       Size\n",
      "      33/50      3.35G      1.257     0.8964     0.9554        274        640: 1\n",
      "                 Class     Images  Instances      Box(P          R      mAP50  m\n",
      "                   all         20        187      0.808      0.859       0.84      0.535\n",
      "\n",
      "      Epoch    GPU_mem   box_loss   cls_loss   dfl_loss  Instances       Size\n",
      "      34/50      3.35G      1.243     0.8842     0.9524        296        640: 1\n",
      "                 Class     Images  Instances      Box(P          R      mAP50  m\n",
      "                   all         20        187      0.827      0.877      0.858      0.549\n",
      "\n",
      "      Epoch    GPU_mem   box_loss   cls_loss   dfl_loss  Instances       Size\n",
      "      35/50      3.35G      1.252     0.8888     0.9337        271        640: 1\n",
      "                 Class     Images  Instances      Box(P          R      mAP50  m\n",
      "                   all         20        187       0.83      0.863      0.873      0.533\n",
      "\n",
      "      Epoch    GPU_mem   box_loss   cls_loss   dfl_loss  Instances       Size\n",
      "      36/50      3.35G      1.244     0.8765     0.9449        341        640: 1\n",
      "                 Class     Images  Instances      Box(P          R      mAP50  m\n",
      "                   all         20        187       0.84      0.879      0.881      0.552\n",
      "\n",
      "      Epoch    GPU_mem   box_loss   cls_loss   dfl_loss  Instances       Size\n",
      "      37/50      3.35G      1.283     0.8891     0.9445        286        640: 1\n",
      "                 Class     Images  Instances      Box(P          R      mAP50  m\n",
      "                   all         20        187      0.814       0.86      0.872      0.535\n",
      "\n",
      "      Epoch    GPU_mem   box_loss   cls_loss   dfl_loss  Instances       Size\n",
      "      38/50      3.35G      1.235     0.8716     0.9485        252        640: 1\n",
      "                 Class     Images  Instances      Box(P          R      mAP50  m\n",
      "                   all         20        187      0.828      0.892      0.882      0.569\n",
      "\n",
      "      Epoch    GPU_mem   box_loss   cls_loss   dfl_loss  Instances       Size\n",
      "      39/50      3.35G      1.257     0.8722     0.9604        363        640: 1\n",
      "                 Class     Images  Instances      Box(P          R      mAP50  m\n",
      "                   all         20        187      0.822      0.904      0.892      0.583\n",
      "\n",
      "      Epoch    GPU_mem   box_loss   cls_loss   dfl_loss  Instances       Size\n",
      "      40/50      3.35G      1.242     0.8548     0.9475        327        640: 1\n",
      "                 Class     Images  Instances      Box(P          R      mAP50  m\n",
      "                   all         20        187      0.847       0.89      0.886      0.559\n",
      "Closing dataloader mosaic\n",
      "\n",
      "      Epoch    GPU_mem   box_loss   cls_loss   dfl_loss  Instances       Size\n",
      "      41/50      3.35G       1.24      1.024     0.9772        193        640: 1\n",
      "                 Class     Images  Instances      Box(P          R      mAP50  m\n",
      "                   all         20        187      0.849      0.898      0.859      0.569\n",
      "\n",
      "      Epoch    GPU_mem   box_loss   cls_loss   dfl_loss  Instances       Size\n",
      "      42/50      3.35G      1.207     0.9444     0.9622        168        640: 1\n",
      "                 Class     Images  Instances      Box(P          R      mAP50  m\n",
      "                   all         20        187      0.822      0.818      0.826      0.532\n",
      "\n",
      "      Epoch    GPU_mem   box_loss   cls_loss   dfl_loss  Instances       Size\n",
      "      43/50      3.35G      1.219      0.917     0.9618        168        640: 1\n",
      "                 Class     Images  Instances      Box(P          R      mAP50  m\n",
      "                   all         20        187      0.717      0.795      0.807      0.502\n",
      "\n",
      "      Epoch    GPU_mem   box_loss   cls_loss   dfl_loss  Instances       Size\n",
      "      44/50      3.35G      1.231     0.9017     0.9629        183        640: 1\n",
      "                 Class     Images  Instances      Box(P          R      mAP50  m\n",
      "                   all         20        187      0.733      0.796      0.827       0.51\n",
      "\n",
      "      Epoch    GPU_mem   box_loss   cls_loss   dfl_loss  Instances       Size\n",
      "      45/50      3.35G      1.198     0.8587     0.9547        183        640: 1\n",
      "                 Class     Images  Instances      Box(P          R      mAP50  m\n",
      "                   all         20        187        0.8      0.859      0.856      0.556\n",
      "\n",
      "      Epoch    GPU_mem   box_loss   cls_loss   dfl_loss  Instances       Size\n",
      "      46/50      3.35G       1.19     0.8403     0.9514        186        640: 1\n",
      "                 Class     Images  Instances      Box(P          R      mAP50  m\n",
      "                   all         20        187       0.82      0.866       0.87      0.562\n",
      "\n",
      "      Epoch    GPU_mem   box_loss   cls_loss   dfl_loss  Instances       Size\n",
      "      47/50      3.35G      1.171     0.8446     0.9444        179        640: 1\n",
      "                 Class     Images  Instances      Box(P          R      mAP50  m\n",
      "                   all         20        187      0.804      0.862      0.855       0.54\n",
      "\n",
      "      Epoch    GPU_mem   box_loss   cls_loss   dfl_loss  Instances       Size\n",
      "      48/50      3.35G      1.151     0.8518     0.9367        144        640: 1\n",
      "                 Class     Images  Instances      Box(P          R      mAP50  m\n",
      "                   all         20        187      0.821      0.806      0.848      0.522\n",
      "\n",
      "      Epoch    GPU_mem   box_loss   cls_loss   dfl_loss  Instances       Size\n",
      "      49/50      3.35G      1.158     0.8278      0.933        172        640: 1\n",
      "                 Class     Images  Instances      Box(P          R      mAP50  m\n",
      "                   all         20        187      0.807      0.867       0.86      0.545\n",
      "\n",
      "      Epoch    GPU_mem   box_loss   cls_loss   dfl_loss  Instances       Size\n",
      "      50/50      3.35G      1.153     0.8172      0.937        199        640: 1\n",
      "                 Class     Images  Instances      Box(P          R      mAP50  m\n",
      "                   all         20        187      0.855      0.863      0.877      0.555\n",
      "\n",
      "50 epochs completed in 0.031 hours.\n",
      "Optimizer stripped from /root/runs/detect/train5/weights/last.pt, 5.5MB\n",
      "Optimizer stripped from /root/runs/detect/train5/weights/best.pt, 5.5MB\n",
      "\n",
      "Validating /root/runs/detect/train5/weights/best.pt...\n",
      "Ultralytics 8.3.89 🚀 Python-3.10.12 torch-2.5.1+cu121 CUDA:0 (NVIDIA GeForce RTX 3070 Ti Laptop GPU, 8192MiB)\n",
      "YOLO11n summary (fused): 100 layers, 2,582,737 parameters, 0 gradients, 6.3 GFLOPs\n",
      "                 Class     Images  Instances      Box(P          R      mAP50  m\n",
      "                   all         20        187      0.823      0.903      0.893      0.583\n",
      "                Goblin         17        138      0.844      0.905      0.919      0.586\n",
      "                goblin          3         49      0.801      0.901      0.866      0.579\n",
      "Speed: 0.2ms preprocess, 3.2ms inference, 0.0ms loss, 2.9ms postprocess per image\n",
      "Results saved to \u001b[1m/root/runs/detect/train5\u001b[0m\n",
      "💡 Learn more at https://docs.ultralytics.com/modes/train\n"
     ]
    }
   ],
   "source": [
    "!yolo train model=yolo11n.pt data=osrs_goblins_3/data.yaml epochs=50 imgsz=640 batch=16"
   ]
  },
  {
   "cell_type": "markdown",
   "metadata": {},
   "source": [
    "### Test"
   ]
  },
  {
   "cell_type": "code",
   "execution_count": null,
   "metadata": {},
   "outputs": [
    {
     "name": "stdout",
     "output_type": "stream",
     "text": [
      "Ultralytics 8.3.89 🚀 Python-3.10.12 torch-2.5.1+cu121 CUDA:0 (NVIDIA GeForce RTX 3070 Ti Laptop GPU, 8192MiB)\n",
      "YOLO11n summary (fused): 100 layers, 2,582,737 parameters, 0 gradients, 6.3 GFLOPs\n",
      "\n",
      "image 1/10 /root/Notebooks/computer_viz/MYBOT/osrs_goblins_3/test/images/image26_png.rf.8ee1f6d2eaf1e13393d862ec7ec6cf0a.jpg: 512x640 16 Goblins, 156.4ms\n",
      "image 2/10 /root/Notebooks/computer_viz/MYBOT/osrs_goblins_3/test/images/image27_png.rf.d003684b8e20a7321a032ca4bd955dfe.jpg: 512x640 20 Goblins, 10.8ms\n",
      "image 3/10 /root/Notebooks/computer_viz/MYBOT/osrs_goblins_3/test/images/image33_png.rf.5835c25199a3697977a9c76be099d1b7.jpg: 512x640 16 Goblins, 15.4ms\n",
      "image 4/10 /root/Notebooks/computer_viz/MYBOT/osrs_goblins_3/test/images/image40_png.rf.65e4795736c5f6c5a386df0ce7ed67db.jpg: 512x640 12 Goblins, 10.5ms\n",
      "image 5/10 /root/Notebooks/computer_viz/MYBOT/osrs_goblins_3/test/images/image46_png.rf.4cb6400f10c1b7eae574ff5c263371af.jpg: 512x640 11 Goblins, 17.8ms\n",
      "image 6/10 /root/Notebooks/computer_viz/MYBOT/osrs_goblins_3/test/images/image77_png.rf.83a502f06f03a29395e18332b9cb6f6e.jpg: 512x640 6 Goblins, 31.2ms\n",
      "image 7/10 /root/Notebooks/computer_viz/MYBOT/osrs_goblins_3/test/images/image79_png.rf.5933e25e158b4ef862552439a7bc4732.jpg: 512x640 2 Goblins, 22.4ms\n",
      "image 8/10 /root/Notebooks/computer_viz/MYBOT/osrs_goblins_3/test/images/image84_png.rf.ad4e3db59e2026dab191396a676797e3.jpg: 512x640 15 Goblins, 11.8ms\n",
      "image 9/10 /root/Notebooks/computer_viz/MYBOT/osrs_goblins_3/test/images/image8_png.rf.0b90d853f5569fda2dd352309d5b64d8.jpg: 512x640 12 Goblins, 22.6ms\n",
      "image 10/10 /root/Notebooks/computer_viz/MYBOT/osrs_goblins_3/test/images/screenshot_20230918_172747_png.rf.2fb9fef4a32cee3109fdada9bb3b4d52.jpg: 320x640 18 goblins, 205.8ms\n",
      "Speed: 2.9ms preprocess, 50.5ms inference, 18.2ms postprocess per image at shape (1, 3, 320, 640)\n",
      "Results saved to \u001b[1m/root/runs/detect/predict7\u001b[0m\n",
      "💡 Learn more at https://docs.ultralytics.com/modes/predict\n"
     ]
    }
   ],
   "source": [
    "!yolo predict model=/root/runs/detect/train5/weights/best.pt source=\"/root/Notebooks/computer_viz/MYBOT/osrs_goblins_3/test/images\""
   ]
  },
  {
   "cell_type": "markdown",
   "metadata": {},
   "source": [
    "worked like a charm\n",
    "\n",
    "![Description](test_image.jpg)\n"
   ]
  },
  {
   "cell_type": "markdown",
   "metadata": {},
   "source": [
    "### 3. MAKE THE GAME PLAY ITSELF "
   ]
  },
  {
   "cell_type": "markdown",
   "metadata": {},
   "source": [
    "Now that the images are annotated and our model detects the goblins correctly, we need to find a way to extract the frames in a way that it is fast enough and procesable.\n",
    "\n",
    "Then we need to run the model on said frames and input actions."
   ]
  },
  {
   "cell_type": "markdown",
   "metadata": {},
   "source": [
    "# FROM THIS POINT ON WE COULDNT RUN INTERACTIONS WITH WINDOWS FROM LINUX, WE HAD TO MOVE BACK TO WINDOWS.\n",
    "\n",
    "We will try to find a workaround as using vscode on windows prevents us from using the GPU capabilities of the Local env.\n",
    "\n",
    "🧌🧌🧌"
   ]
  }
 ],
 "metadata": {
  "kernelspec": {
   "display_name": "rl-env",
   "language": "python",
   "name": "python3"
  },
  "language_info": {
   "codemirror_mode": {
    "name": "ipython",
    "version": 3
   },
   "file_extension": ".py",
   "mimetype": "text/x-python",
   "name": "python",
   "nbconvert_exporter": "python",
   "pygments_lexer": "ipython3",
   "version": "3.10.12"
  }
 },
 "nbformat": 4,
 "nbformat_minor": 2
}
